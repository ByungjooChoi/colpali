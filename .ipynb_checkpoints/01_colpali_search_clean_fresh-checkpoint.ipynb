{
 "cells": [
  {
   "cell_type": "markdown",
   "id": "c2d7e9f4",
   "metadata": {},
   "source": [
    "\n",
    "# ✅ ColPali Search - Verified Clean Version  \n",
    "Notebook validated for use with:\n",
    "- ColQwen 2.5 (tsystems/colqwen2.5-3b-multilingual-v1.0)\n",
    "- Elasticsearch Cloud\n",
    "- RVL-CDIP dataset (scientific report, scientific publication, presentation)\n"
   ]
  },
  {
   "cell_type": "code",
   "execution_count": null,
   "id": "3314e97e",
   "metadata": {},
   "outputs": [],
   "source": [
    "!pip install -r requirements.txt"
   ]
  },
  {
   "cell_type": "code",
   "execution_count": null,
   "id": "d5c98915",
   "metadata": {},
   "outputs": [],
   "source": [
    "\n",
    "import os\n",
    "import torch\n",
    "import numpy as np\n",
    "from elasticsearch import Elasticsearch\n",
    "from colpali_engine.models import ColQwen2_5, ColQwen2_5_Processor\n",
    "from PIL import Image\n",
    "from dotenv import load_dotenv\n",
    "from datasets import load_dataset\n",
    "from tqdm import tqdm\n",
    "import shutil\n",
    "from IPython.display import display, HTML\n"
   ]
  },
  {
   "cell_type": "code",
   "execution_count": null,
   "id": "9f3298a6",
   "metadata": {},
   "outputs": [],
   "source": [
    "\n",
    "load_dotenv(\"elastic.env\")\n",
    "ELASTIC_HOST = os.getenv(\"ELASTIC_HOST\", \"\").strip('\"')\n",
    "ELASTIC_API_KEY = os.getenv(\"ELASTIC_API_KEY\", \"\").strip('\"')\n",
    "\n",
    "if not ELASTIC_HOST or not ELASTIC_API_KEY:\n",
    "    raise ValueError(\"Please set ELASTIC_HOST and ELASTIC_API_KEY in elastic.env\")\n"
   ]
  },
  {
   "cell_type": "code",
   "execution_count": null,
   "id": "374d5b92",
   "metadata": {},
   "outputs": [],
   "source": [
    "\n",
    "MODEL_NAME = \"tsystems/colqwen2.5-3b-multilingual-v1.0\"\n"
   ]
  },
  {
   "cell_type": "code",
   "execution_count": null,
   "id": "ca62a35c",
   "metadata": {},
   "outputs": [],
   "source": [
    "\n",
    "if torch.backends.mps.is_available():\n",
    "    device = torch.device(\"mps\")\n",
    "elif torch.cuda.is_available():\n",
    "    device = torch.device(\"cuda\")\n",
    "else:\n",
    "    device = torch.device(\"cpu\")\n",
    "print(\"Using device:\", device)\n"
   ]
  },
  {
   "cell_type": "code",
   "execution_count": null,
   "id": "21f9b60c",
   "metadata": {},
   "outputs": [],
   "source": [
    "\n",
    "model = ColQwen2_5.from_pretrained(MODEL_NAME, torch_dtype=torch.bfloat16).eval().to(device)\n",
    "processor = ColQwen2_5_Processor.from_pretrained(MODEL_NAME)\n"
   ]
  },
  {
   "cell_type": "code",
   "execution_count": null,
   "id": "534edd56",
   "metadata": {},
   "outputs": [],
   "source": [
    "\n",
    "es = Elasticsearch(hosts=[ELASTIC_HOST], api_key=ELASTIC_API_KEY)\n"
   ]
  },
  {
   "cell_type": "code",
   "execution_count": null,
   "id": "0f70225e",
   "metadata": {},
   "outputs": [],
   "source": [
    "\n",
    "INDEX_NAME = \"colpali_docs\"\n",
    "\n",
    "index_body = {\n",
    "    \"mappings\": {\n",
    "        \"properties\": {\n",
    "            \"title\": {\"type\": \"text\"},\n",
    "            \"category\": {\"type\": \"keyword\"},\n",
    "            \"rank_vectors\": {\n",
    "                \"type\": \"rank_vectors\",\n",
    "                \"dims\": 2048,\n",
    "                \"element_type\": \"float\"\n",
    "            }\n",
    "        }\n",
    "    }\n",
    "}\n",
    "if not es.indices.exists(index=INDEX_NAME):\n",
    "    es.indices.create(index=INDEX_NAME, body=index_body)\n"
   ]
  },
  {
   "cell_type": "code",
   "execution_count": null,
   "id": "0c9f227d",
   "metadata": {},
   "outputs": [],
   "source": [
    "\n",
    "def embed_text(text):\n",
    "    inputs = processor.process_queries([text]).to(device)\n",
    "    with torch.no_grad():\n",
    "        outputs = model(**inputs)\n",
    "    return outputs[0].cpu().numpy()\n"
   ]
  },
  {
   "cell_type": "code",
   "execution_count": null,
   "id": "c934f2ef",
   "metadata": {},
   "outputs": [],
   "source": [
    "\n",
    "label_to_category = {\n",
    "    5: 'scientific report',\n",
    "    6: 'scientific publication',\n",
    "    12: 'presentation',\n",
    "}\n",
    "\n",
    "print(\"Downloading RVL-CDIP dataset...\")\n",
    "dataset = load_dataset('rvl_cdip', split='train')\n",
    "\n",
    "def normalize_category(example):\n",
    "    example['category'] = label_to_category.get(example['label'], 'other')\n",
    "    return example\n",
    "\n",
    "dataset = dataset.map(normalize_category)\n",
    "filtered = dataset.filter(lambda x: x['category'] in label_to_category.values())\n",
    "\n",
    "output_dir = \"rvl_cdip_filtered\"\n",
    "shutil.rmtree(output_dir, ignore_errors=True)\n",
    "os.makedirs(output_dir, exist_ok=True)\n",
    "\n",
    "documents = []\n",
    "for i, example in enumerate(filtered.select(range(30))):\n",
    "    img = example['image']\n",
    "    label = example['category']\n",
    "    text = f\"Category: {label} document describing scientific content.\"\n",
    "    img_path = f\"{output_dir}/{label}_{i}.png\"\n",
    "    img.save(img_path)\n",
    "    documents.append({\"title\": f\"{label.capitalize()} Document {i}\", \"text\": text, \"category\": label, \"path\": img_path})\n"
   ]
  },
  {
   "cell_type": "code",
   "execution_count": null,
   "id": "f0c0a437",
   "metadata": {},
   "outputs": [],
   "source": [
    "\n",
    "for i, doc in enumerate(documents):\n",
    "    patch_vectors = embed_text(doc[\"text\"])\n",
    "    body = {\n",
    "        \"title\": doc[\"title\"],\n",
    "        \"category\": doc[\"category\"],\n",
    "        \"rank_vectors\": patch_vectors.tolist()\n",
    "    }\n",
    "    es.index(index=INDEX_NAME, id=f\"doc_{i}\", document=body)\n"
   ]
  },
  {
   "cell_type": "code",
   "execution_count": null,
   "id": "b003af29",
   "metadata": {},
   "outputs": [],
   "source": [
    "\n",
    "queries = {\n",
    "    \"en\": [\n",
    "        \"What are deep learning methods for describing images?\",\n",
    "        \"What was shared in the latest physics event?\",\n",
    "        \"How do proteins fold in biological systems?\"\n",
    "    ],\n",
    "    \"ko\": [\n",
    "        \"이미지를 설명하는 딥러닝 방법은?\",\n",
    "        \"최근 물리학 컨퍼런스에서 발표된 내용은?\",\n",
    "        \"단백질이 어떻게 접히는지에 대한 연구는?\"\n",
    "    ]\n",
    "}\n"
   ]
  },
  {
   "cell_type": "code",
   "execution_count": null,
   "id": "1b1f4990",
   "metadata": {},
   "outputs": [],
   "source": [
    "\n",
    "def search_and_render(query):\n",
    "    q_vec = embed_text(query)\n",
    "    es_query = {\n",
    "        \"_source\": False,\n",
    "        \"query\": {\n",
    "            \"script_score\": {\n",
    "                \"query\": {\"match_all\": {}},\n",
    "                \"script\": {\n",
    "                    \"source\": \"maxSimDotProduct(params.query_vector, 'rank_vectors')\",\n",
    "                    \"params\": {\"query_vector\": q_vec.tolist()}\n",
    "                }\n",
    "            }\n",
    "        },\n",
    "        \"size\": 5\n",
    "    }\n",
    "    results = es.search(index=INDEX_NAME, body=es_query)\n",
    "    image_ids = [hit[\"_id\"] for hit in results[\"hits\"][\"hits\"]]\n",
    "\n",
    "    html = \"<div style='display: flex; flex-wrap: wrap; align-items: flex-start;'>\"\n",
    "    for doc_id in image_ids:\n",
    "        match = next((d for d in documents if f\"doc_{documents.index(d)}\" == doc_id), None)\n",
    "        if match:\n",
    "            image_path = match[\"path\"]\n",
    "            html += f'<img src=\"{image_path}\" alt=\"{doc_id}\" style=\"max-width:300px; height:auto; margin:10px;\">'\n",
    "    html += \"</div>\"\n",
    "    display(HTML(html))\n"
   ]
  },
  {
   "cell_type": "code",
   "execution_count": null,
   "id": "f168077a",
   "metadata": {},
   "outputs": [],
   "source": [
    "\n",
    "print(\"\\n--- English Queries ---\")\n",
    "for q in queries['en']:\n",
    "    print(f\"\\nQuery: {q}\")\n",
    "    search_and_render(q)\n",
    "\n",
    "print(\"\\n--- Korean Queries ---\")\n",
    "for q in queries['ko']:\n",
    "    print(f\"\\nQuery: {q}\")\n",
    "    search_and_render(q)\n"
   ]
  },
  {
   "cell_type": "code",
   "execution_count": null,
   "id": "7753b88b",
   "metadata": {},
   "outputs": [],
   "source": [
    "\n",
    "# We kill the kernel forcefully to free up the memory from the ColQwen model.\n",
    "import os\n",
    "print(\"Shutting down the kernel to free memory...\")\n",
    "os._exit(0)\n"
   ]
  }
 ],
 "metadata": {
  "kernelspec": {
   "display_name": "Python 3",
   "language": "python",
   "name": "python3"
  },
  "language_info": {
   "codemirror_mode": {
    "name": "ipython",
    "version": 3
   },
   "file_extension": ".py",
   "mimetype": "text/x-python",
   "name": "python",
   "nbconvert_exporter": "python",
   "pygments_lexer": "ipython3",
   "version": "3.10"
  }
 },
 "nbformat": 4,
 "nbformat_minor": 5
}
